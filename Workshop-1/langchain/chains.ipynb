{
 "cells": [
  {
   "cell_type": "markdown",
   "metadata": {},
   "source": [
    "# Chains in LangChain\n",
    "\n",
    "## Outline\n",
    "\n",
    "* LLMChain\n",
    "* Sequential Chains\n",
    "  * SimpleSequentialChain\n",
    "  * SequentialChain\n",
    "* Router Chain"
   ]
  },
  {
   "cell_type": "code",
   "execution_count": 1,
   "metadata": {},
   "outputs": [],
   "source": [
    "import warnings\n",
    "warnings.filterwarnings('ignore')"
   ]
  },
  {
   "cell_type": "code",
   "execution_count": 3,
   "metadata": {},
   "outputs": [],
   "source": [
    "import os\n",
    "\n",
    "from dotenv import load_dotenv, find_dotenv\n",
    "_ = load_dotenv(find_dotenv()) # read local .env file"
   ]
  },
  {
   "cell_type": "code",
   "execution_count": 6,
   "metadata": {},
   "outputs": [
    {
     "name": "stdout",
     "output_type": "stream",
     "text": [
      "Collecting pandas\n",
      "  Using cached pandas-2.2.3-cp311-cp311-win_amd64.whl.metadata (19 kB)\n",
      "Requirement already satisfied: numpy>=1.23.2 in .\\venv\\lib\\site-packages (from pandas) (2.2.3)\n",
      "Requirement already satisfied: python-dateutil>=2.8.2 in .\\venv\\lib\\site-packages (from pandas) (2.9.0.post0)\n",
      "Collecting pytz>=2020.1 (from pandas)\n",
      "  Using cached pytz-2025.1-py2.py3-none-any.whl.metadata (22 kB)\n",
      "Collecting tzdata>=2022.7 (from pandas)\n",
      "  Using cached tzdata-2025.1-py2.py3-none-any.whl.metadata (1.4 kB)\n",
      "Requirement already satisfied: six>=1.5 in .\\venv\\lib\\site-packages (from python-dateutil>=2.8.2->pandas) (1.17.0)\n",
      "Using cached pandas-2.2.3-cp311-cp311-win_amd64.whl (11.6 MB)\n",
      "Using cached pytz-2025.1-py2.py3-none-any.whl (507 kB)\n",
      "Using cached tzdata-2025.1-py2.py3-none-any.whl (346 kB)\n",
      "Installing collected packages: pytz, tzdata, pandas\n",
      "Successfully installed pandas-2.2.3 pytz-2025.1 tzdata-2025.1\n",
      "Note: you may need to restart the kernel to use updated packages.\n"
     ]
    },
    {
     "name": "stderr",
     "output_type": "stream",
     "text": [
      "\n",
      "[notice] A new release of pip is available: 24.0 -> 25.0.1\n",
      "[notice] To update, run: python.exe -m pip install --upgrade pip\n"
     ]
    }
   ],
   "source": [
    "pip install pandas"
   ]
  },
  {
   "cell_type": "code",
   "execution_count": 39,
   "metadata": {},
   "outputs": [],
   "source": [
    "import pandas as pd\n",
    "df = pd.read_csv('product_reviews.csv')"
   ]
  },
  {
   "cell_type": "code",
   "execution_count": 40,
   "metadata": {},
   "outputs": [
    {
     "data": {
      "text/html": [
       "<div>\n",
       "<style scoped>\n",
       "    .dataframe tbody tr th:only-of-type {\n",
       "        vertical-align: middle;\n",
       "    }\n",
       "\n",
       "    .dataframe tbody tr th {\n",
       "        vertical-align: top;\n",
       "    }\n",
       "\n",
       "    .dataframe thead th {\n",
       "        text-align: right;\n",
       "    }\n",
       "</style>\n",
       "<table border=\"1\" class=\"dataframe\">\n",
       "  <thead>\n",
       "    <tr style=\"text-align: right;\">\n",
       "      <th></th>\n",
       "      <th>Product</th>\n",
       "      <th>Review</th>\n",
       "    </tr>\n",
       "  </thead>\n",
       "  <tbody>\n",
       "    <tr>\n",
       "      <th>0</th>\n",
       "      <td>Smart LED Bulb</td>\n",
       "      <td>Bright and energy-efficient, perfect for home ...</td>\n",
       "    </tr>\n",
       "    <tr>\n",
       "      <th>1</th>\n",
       "      <td>Power Strip with USB</td>\n",
       "      <td>Very convenient with multiple USB ports, great...</td>\n",
       "    </tr>\n",
       "    <tr>\n",
       "      <th>2</th>\n",
       "      <td>Electric Kettle</td>\n",
       "      <td>Boils water quickly, but the cord is a bit short.</td>\n",
       "    </tr>\n",
       "    <tr>\n",
       "      <th>3</th>\n",
       "      <td>Wireless Doorbell</td>\n",
       "      <td>Easy installation and great range, but sound o...</td>\n",
       "    </tr>\n",
       "    <tr>\n",
       "      <th>4</th>\n",
       "      <td>Portable Heater</td>\n",
       "      <td>Provides good heating, but the fan noise is sl...</td>\n",
       "    </tr>\n",
       "  </tbody>\n",
       "</table>\n",
       "</div>"
      ],
      "text/plain": [
       "                Product                                             Review\n",
       "0        Smart LED Bulb  Bright and energy-efficient, perfect for home ...\n",
       "1  Power Strip with USB  Very convenient with multiple USB ports, great...\n",
       "2       Electric Kettle  Boils water quickly, but the cord is a bit short.\n",
       "3     Wireless Doorbell  Easy installation and great range, but sound o...\n",
       "4       Portable Heater  Provides good heating, but the fan noise is sl..."
      ]
     },
     "execution_count": 40,
     "metadata": {},
     "output_type": "execute_result"
    }
   ],
   "source": [
    "df.head()"
   ]
  },
  {
   "cell_type": "markdown",
   "metadata": {},
   "source": [
    "## LLMChain\n"
   ]
  },
  {
   "cell_type": "code",
   "execution_count": 41,
   "metadata": {},
   "outputs": [],
   "source": [
    "from langchain.chat_models import ChatOllama\n",
    "from langchain.prompts import ChatPromptTemplate\n",
    "from langchain.chains import LLMChain"
   ]
  },
  {
   "cell_type": "code",
   "execution_count": 42,
   "metadata": {},
   "outputs": [],
   "source": [
    "llm = ChatOllama(base_url=\"http://localhost:11434\", model=\"llama3.2\")  # Connect to running container\n"
   ]
  },
  {
   "cell_type": "code",
   "execution_count": 43,
   "metadata": {},
   "outputs": [],
   "source": [
    "prompt = ChatPromptTemplate.from_template(\n",
    "    \"What is the best name to describe \\\n",
    "    a company that makes {product}?\"\n",
    ")"
   ]
  },
  {
   "cell_type": "code",
   "execution_count": 44,
   "metadata": {},
   "outputs": [],
   "source": [
    "chain = LLMChain(llm=llm, prompt=prompt)"
   ]
  },
  {
   "cell_type": "code",
   "execution_count": 45,
   "metadata": {},
   "outputs": [],
   "source": [
    "product = \"Smart LED Bulb\"\n",
    "result = chain.run(product)"
   ]
  },
  {
   "cell_type": "code",
   "execution_count": 46,
   "metadata": {},
   "outputs": [
    {
     "name": "stdout",
     "output_type": "stream",
     "text": [
      "Here are some suggestions for names that could describe a company that makes smart LED bulbs:\n",
      "\n",
      "1. **Lumina Insights**: This name combines \"lumina\" (light) with \"insights,\" implying that the company's products provide valuable information and monitoring capabilities.\n",
      "2. **Brightbyte Technologies**: This name plays on the idea of brightness (bright) and digital bytes, hinting at the technological advancements in smart LED bulbs.\n",
      "3. **LuxSmart**: This name combines \"lux\" (light) with \"smart,\" clearly conveying that the company's products are intelligent and innovative.\n",
      "4. **EcoGlow**: This name emphasizes the eco-friendly aspect of LED bulbs and suggests a warm, glowing light.\n",
      "5. **Sparklight Innovations**: This name evokes the idea of sparking innovation and creativity, while also referencing light and electricity.\n",
      "6. **Aurora Lighting Solutions**: This name references the dawn of a new era (Aurora) and positions the company as a leader in lighting solutions.\n",
      "7. **Luminary Labs**: This name emphasizes the scientific and experimental aspects of smart LED bulbs, suggesting a company that's pushing boundaries and developing cutting-edge technology.\n",
      "8. **GlowGenius**: This name is playful and memorable, implying that the company's products are intelligent and innovative (genius).\n",
      "9. **Spectrum Lighting Co.**: This name references the various colors and spectrums of light, hinting at the color-changing capabilities of smart LED bulbs.\n",
      "10. **Helios Energy**: This name references the Greek god of sunlight (Helios) and positions the company as a provider of energy-efficient lighting solutions.\n",
      "\n",
      "Remember to choose a name that reflects your brand values, is memorable and easy to spell, and resonates with your target audience.\n"
     ]
    }
   ],
   "source": [
    "print(result)"
   ]
  },
  {
   "cell_type": "markdown",
   "metadata": {},
   "source": [
    "## SimpleSequentialChain"
   ]
  },
  {
   "cell_type": "code",
   "execution_count": 47,
   "metadata": {},
   "outputs": [],
   "source": [
    "from langchain.chains import SimpleSequentialChain"
   ]
  },
  {
   "cell_type": "code",
   "execution_count": 49,
   "metadata": {},
   "outputs": [],
   "source": [
    "llm = ChatOllama(base_url=\"http://localhost:11434\", model=\"llama3.2\")  # Connect to running container\n",
    "\n",
    "# prompt template 1\n",
    "first_prompt = ChatPromptTemplate.from_template(\n",
    "    \"What is the best name to describe \\\n",
    "    a company that makes {product}?\"\n",
    ")\n",
    "\n",
    "# Chain 1\n",
    "chain_one = LLMChain(llm=llm, prompt=first_prompt)"
   ]
  },
  {
   "cell_type": "code",
   "execution_count": 50,
   "metadata": {},
   "outputs": [],
   "source": [
    "# prompt template 2\n",
    "second_prompt = ChatPromptTemplate.from_template(\n",
    "    \"Write a 20 words description for the following \\\n",
    "    company:{company_name}\"\n",
    ")\n",
    "# chain 2\n",
    "chain_two = LLMChain(llm=llm, prompt=second_prompt)"
   ]
  },
  {
   "cell_type": "code",
   "execution_count": 51,
   "metadata": {},
   "outputs": [],
   "source": [
    "overall_simple_chain = SimpleSequentialChain(chains=[chain_one, chain_two], verbose=True)"
   ]
  },
  {
   "cell_type": "code",
   "execution_count": 53,
   "metadata": {},
   "outputs": [
    {
     "name": "stdout",
     "output_type": "stream",
     "text": [
      "\n",
      "\n",
      "\u001b[1m> Entering new SimpleSequentialChain chain...\u001b[0m\n",
      "\u001b[36;1m\u001b[1;3mHere are some suggestions for a company name that describes a maker of smart LED bulbs:\n",
      "\n",
      "1. **LuminaTech**: This name combines \"lumina\" (light) with \"tech\" to convey a sense of innovation and technology.\n",
      "2. **BulbGenius**: This name plays on the idea of the bulb being intelligent and smart, implying that the company's products are cleverly designed.\n",
      "3. **GlowGrid**: This name incorporates the idea of light (glow) with a nod to the grid or network aspect of smart technology.\n",
      "4. **Luxio**: This name combines \"lux\" (light) with \"-io,\" suggesting innovation and expertise in lighting technology.\n",
      "5. **Aurora Lighting**: Aurora is the Latin word for dawn, implying a bright and enlightened future, which fits well with the concept of smart lighting.\n",
      "6. **SmartBright Labs**: This name explicitly conveys that the company's products are intelligent and designed to improve brightness and efficiency.\n",
      "7. **Luminatech Solutions**: Similar to LuminaTech, this name emphasizes solutions and innovation in lighting technology.\n",
      "8. **BulbBliss**: This name adds a touch of whimsy while still conveying a sense of smart, high-tech design.\n",
      "9. **Eon Lighting Co.**: Eon is a word meaning \"ageless\" or \"enduring,\" implying that the company's products will last and continue to evolve over time.\n",
      "10. **Illumina**: This name emphasizes the idea of illumination and enlightenment, suggesting that the company's products will bring light and intelligence to customers' lives.\n",
      "\n",
      "Choose a name that reflects your brand values, personality, and unique selling proposition (USP). Make sure it's easy to remember, spell, and pronounce!\u001b[0m\n",
      "\u001b[33;1m\u001b[1;3mHere is a 20-word description for the chosen company:\n",
      "\n",
      "**LuminaTech**: Innovative smart LED bulb maker offering energy-efficient, intelligent lighting solutions with cutting-edge technology and user-centric design philosophy.\u001b[0m\n",
      "\n",
      "\u001b[1m> Finished chain.\u001b[0m\n"
     ]
    },
    {
     "data": {
      "text/plain": [
       "'Here is a 20-word description for the chosen company:\\n\\n**LuminaTech**: Innovative smart LED bulb maker offering energy-efficient, intelligent lighting solutions with cutting-edge technology and user-centric design philosophy.'"
      ]
     },
     "execution_count": 53,
     "metadata": {},
     "output_type": "execute_result"
    }
   ],
   "source": [
    "overall_simple_chain.run(product)"
   ]
  }
 ],
 "metadata": {
  "kernelspec": {
   "display_name": "venv",
   "language": "python",
   "name": "python3"
  },
  "language_info": {
   "codemirror_mode": {
    "name": "ipython",
    "version": 3
   },
   "file_extension": ".py",
   "mimetype": "text/x-python",
   "name": "python",
   "nbconvert_exporter": "python",
   "pygments_lexer": "ipython3",
   "version": "3.11.9"
  }
 },
 "nbformat": 4,
 "nbformat_minor": 2
}
